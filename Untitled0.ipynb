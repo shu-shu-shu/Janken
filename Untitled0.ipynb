{
  "nbformat": 4,
  "nbformat_minor": 0,
  "metadata": {
    "colab": {
      "name": "Untitled0.ipynb",
      "provenance": [],
      "include_colab_link": true
    },
    "kernelspec": {
      "name": "python3",
      "display_name": "Python 3"
    },
    "language_info": {
      "name": "python"
    },
    "accelerator": "GPU"
  },
  "cells": [
    {
      "cell_type": "markdown",
      "metadata": {
        "id": "view-in-github",
        "colab_type": "text"
      },
      "source": [
        "<a href=\"https://colab.research.google.com/github/shu-shu-shu/Janken/blob/main/Untitled0.ipynb\" target=\"_parent\"><img src=\"https://colab.research.google.com/assets/colab-badge.svg\" alt=\"Open In Colab\"/></a>"
      ]
    },
    {
      "cell_type": "code",
      "metadata": {
        "colab": {
          "base_uri": "https://localhost:8080/"
        },
        "id": "Ra6JUzhpRiO6",
        "outputId": "6c5d863b-f949-4de3-f53f-4fe96832b67c"
      },
      "source": [
        "import tensorflow as tf\n",
        "print(tf.test.gpu_device_name())\n",
        "\n",
        "#import numpy and matplotlib\n",
        "import numpy as np\n",
        "import matplotlib.pyplot as plt\n",
        "\n",
        "# Keras\n",
        "import keras\n",
        "import keras.backend as K \n",
        "from tqdm import tqdm\n",
        "from keras.utils import np_utils\n",
        "from keras.preprocessing.image import ImageDataGenerator\n",
        "import numpy as np\n",
        "from sklearn.model_selection import train_test_split\n",
        "from keras.applications.vgg16 import VGG16\n",
        "from keras.callbacks import TensorBoard\n",
        "from keras.callbacks import EarlyStopping\n",
        "from keras.models import Model\n",
        "from keras.layers import Dense, GlobalAveragePooling2D"
      ],
      "execution_count": null,
      "outputs": [
        {
          "output_type": "stream",
          "text": [
            "/device:GPU:0\n"
          ],
          "name": "stdout"
        }
      ]
    },
    {
      "cell_type": "code",
      "metadata": {
        "id": "5exCvpI4fDIg"
      },
      "source": [
        "#入力およびデータの水増し関数\n",
        "def init_dataflow():\n",
        "  train_datagen = ImageDataGenerator(rescale = 1.0/255.0,)#ファイル名がカテゴリのラベル\n",
        "  validation_datagen = ImageDataGenerator(rescale = 1.0/255.0,)\n",
        "  traion_dataflow = train_datagen.flow_from_directory(\n",
        "      \"./data/train\",#train用のデータフォルダー\n",
        "      target_size=(224,224),\n",
        "      batch_size=32,\n",
        "      class_mode='categorical'\n",
        "  )\n",
        "  validation_dataflow = validation_datagen.flow_from_directory(\n",
        "      \"./data/val\",\n",
        "      target_size(224,224),\n",
        "      batch_size=32,\n",
        "      class_mode='categorical'\n",
        "  )\n",
        "  return train_dataflow,vaidation_dataflow"
      ],
      "execution_count": null,
      "outputs": []
    },
    {
      "cell_type": "code",
      "metadata": {
        "id": "Q4Lw04ZMiGdM"
      },
      "source": [
        "#モデルのチューニング\n",
        "def get_VGG16_for_finetuning():\n",
        "  \"\"\"\n",
        "  VGG16の全結合層以外の重みをImageNetから流用、新たに３クラス分類用の全結合層を付けて返す\n",
        "  Returns:\n",
        "    [type] -- [description]\n",
        "  \"\"\"\n",
        "  basemodel = VGG16(\n",
        "      weights='imagenet',#imagenetでの学習セットを使用\n",
        "      input_shape=[224,224,3],\n",
        "      include_top=False,#全結合層を外す\n",
        "  )\n",
        "  layers = basemodel.output\n",
        "  layers = GlobalAveragePooling2D()(layers)\n",
        "  layers = Dense(1024,activation='relu')(layers)\n",
        "  prediction = Dense(3,activation='sofmax')(layers)#Dense(category-nos,activation関数)\n",
        "  return Model(inputs=basemodel.input, outputs=predictions)"
      ],
      "execution_count": null,
      "outputs": []
    },
    {
      "cell_type": "code",
      "metadata": {
        "id": "uDX1shG9u7FG"
      },
      "source": [
        "def main():\n",
        "  train_dataflow,vaidation_dataflow = init_dataflow()\n",
        "  model = get_VGG_for_finetuning()"
      ],
      "execution_count": null,
      "outputs": []
    }
  ]
}